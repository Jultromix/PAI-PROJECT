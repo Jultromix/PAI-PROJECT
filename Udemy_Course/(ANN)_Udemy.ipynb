{
  "nbformat": 4,
  "nbformat_minor": 0,
  "metadata": {
    "colab": {
      "name": "(ANN)-Udemy",
      "provenance": [],
      "authorship_tag": "ABX9TyPILrSrbZKIukKQzZToXF7v",
      "include_colab_link": true
    },
    "kernelspec": {
      "name": "python3",
      "display_name": "Python 3"
    },
    "language_info": {
      "name": "python"
    }
  },
  "cells": [
    {
      "cell_type": "markdown",
      "metadata": {
        "id": "view-in-github",
        "colab_type": "text"
      },
      "source": [
        "<a href=\"https://colab.research.google.com/github/Jultromix/PAI-PROJECT/blob/main/Udemy_Course/(ANN)_Udemy.ipynb\" target=\"_parent\"><img src=\"https://colab.research.google.com/assets/colab-badge.svg\" alt=\"Open In Colab\"/></a>"
      ]
    },
    {
      "cell_type": "markdown",
      "source": [
        "# Text Format\n",
        "## Heading 2\n",
        "### Heading 3\n",
        "\n",
        "\n",
        "\n",
        "---\n",
        "* This is a common code description!\n",
        "\n",
        "* For using Latex (as description or explanations of functions/ artyhmetics) use the following reference: https://colab.research.google.com/github/bebi103a/bebi103a.github.io/blob/master/lessons/00/intro_to_latex.ipynb\n",
        "\n",
        "Normal text.\n",
        "\n"
      ],
      "metadata": {
        "id": "UcmRFFCeBGty"
      }
    },
    {
      "cell_type": "markdown",
      "source": [
        "# Curiosities\n",
        "Tuples with mutable items, remain as unmutable objects while its items if mutable, may be modified when accessing them directly"
      ],
      "metadata": {
        "id": "J4sRe4MCyrdd"
      }
    },
    {
      "cell_type": "code",
      "source": [
        "colors=[\"red\",\"green\",\"blue\"]\n",
        "spectrum=(colors,255,\"spectrum\")\n",
        "print(spectrum)"
      ],
      "metadata": {
        "colab": {
          "base_uri": "https://localhost:8080/"
        },
        "id": "Ga2ASvo5x_u9",
        "outputId": "feae01ef-11eb-45fb-a54f-93346ab115c5"
      },
      "execution_count": null,
      "outputs": [
        {
          "output_type": "stream",
          "name": "stdout",
          "text": [
            "(['red', 'green', 'blue'], 255, 'spectrum')\n"
          ]
        }
      ]
    },
    {
      "cell_type": "code",
      "source": [
        "colors[0]=\"brown\"\n",
        "print(spectrum)"
      ],
      "metadata": {
        "colab": {
          "base_uri": "https://localhost:8080/"
        },
        "id": "xUWzuZgVyHN5",
        "outputId": "f7878a6d-c8c2-4763-cec1-b9d38b1aaa73"
      },
      "execution_count": null,
      "outputs": [
        {
          "output_type": "stream",
          "name": "stdout",
          "text": [
            "(['brown', 'green', 'blue'], 255, 'spectrum')\n"
          ]
        }
      ]
    },
    {
      "cell_type": "code",
      "source": [
        "spectrum[0][0]=\"red\"\n",
        "print(spectrum)    "
      ],
      "metadata": {
        "colab": {
          "base_uri": "https://localhost:8080/"
        },
        "id": "X18bgCAT4c5n",
        "outputId": "fd4d9bac-404d-4fec-ac64-3f8d9a9e3b9e"
      },
      "execution_count": null,
      "outputs": [
        {
          "output_type": "stream",
          "name": "stdout",
          "text": [
            "(['red', 'green', 'blue'], 255, 'spectrum')\n"
          ]
        }
      ]
    },
    {
      "cell_type": "markdown",
      "source": [
        "# Numpy library"
      ],
      "metadata": {
        "id": "io5c2DCv3gNa"
      }
    },
    {
      "cell_type": "code",
      "source": [
        "import numpy as np\n",
        "\n",
        "vec1 = np.array([1,2,3])\n",
        "vec2 = np.array([[1]])\n",
        "vec3 = np.array([[1,2],[3,4]])"
      ],
      "metadata": {
        "id": "IfokeqE33kAx"
      },
      "execution_count": null,
      "outputs": []
    },
    {
      "cell_type": "code",
      "source": [
        "print(vec1)\n",
        "print(vec2)\n",
        "print(vec3)"
      ],
      "metadata": {
        "colab": {
          "base_uri": "https://localhost:8080/"
        },
        "id": "p55cMaP25e0G",
        "outputId": "b4b60687-f640-474d-9229-252b136fac45"
      },
      "execution_count": null,
      "outputs": [
        {
          "output_type": "stream",
          "name": "stdout",
          "text": [
            "[1 2 3]\n",
            "[[1]]\n",
            "[[1 2]\n",
            " [3 4]]\n"
          ]
        }
      ]
    },
    {
      "cell_type": "code",
      "source": [
        "print(vec1.shape)\n",
        "print(vec2.shape)\n",
        "print(vec3.shape)"
      ],
      "metadata": {
        "colab": {
          "base_uri": "https://localhost:8080/"
        },
        "id": "N4oFz8GF5jzW",
        "outputId": "8f76547f-ea9c-4f33-a4e3-a3505ba6d46c"
      },
      "execution_count": null,
      "outputs": [
        {
          "output_type": "stream",
          "name": "stdout",
          "text": [
            "(3,)\n",
            "(1, 1)\n",
            "(2, 2)\n"
          ]
        }
      ]
    },
    {
      "cell_type": "code",
      "source": [
        "np.random.rand(4,4)"
      ],
      "metadata": {
        "colab": {
          "base_uri": "https://localhost:8080/"
        },
        "id": "_OzyrmqH7CTA",
        "outputId": "233d7b3a-8a29-4d0f-ae27-eef6090c8269"
      },
      "execution_count": null,
      "outputs": [
        {
          "output_type": "execute_result",
          "data": {
            "text/plain": [
              "array([[0.82581742, 0.30662338, 0.10677141, 0.68058961],\n",
              "       [0.25901933, 0.24755399, 0.94377315, 0.86066906],\n",
              "       [0.35543992, 0.26379613, 0.58181737, 0.18444887],\n",
              "       [0.46879844, 0.16432161, 0.27129283, 0.35238108]])"
            ]
          },
          "metadata": {},
          "execution_count": 13
        }
      ]
    },
    {
      "cell_type": "code",
      "source": [
        "np.arange(4,20,4)"
      ],
      "metadata": {
        "colab": {
          "base_uri": "https://localhost:8080/"
        },
        "id": "FimdFrpm7S8w",
        "outputId": "cb599eba-9733-4376-cd70-c9b9e45f8894"
      },
      "execution_count": null,
      "outputs": [
        {
          "output_type": "execute_result",
          "data": {
            "text/plain": [
              "array([ 4,  8, 12, 16])"
            ]
          },
          "metadata": {},
          "execution_count": 16
        }
      ]
    },
    {
      "cell_type": "code",
      "source": [
        "np.random.randn(4,4)"
      ],
      "metadata": {
        "colab": {
          "base_uri": "https://localhost:8080/"
        },
        "id": "-dritPbU7jIt",
        "outputId": "f611ecfc-33aa-4261-e45f-780c937f539e"
      },
      "execution_count": null,
      "outputs": [
        {
          "output_type": "execute_result",
          "data": {
            "text/plain": [
              "array([[ 0.74930464, -0.39285931, -0.54036413,  1.73577715],\n",
              "       [ 0.30656989,  0.90393324,  3.08808065,  0.73888231],\n",
              "       [ 0.58296406, -0.14430144, -0.86323987, -0.33835629],\n",
              "       [-0.42282871, -1.81746182, -0.64828232,  1.72032502]])"
            ]
          },
          "metadata": {},
          "execution_count": 17
        }
      ]
    },
    {
      "cell_type": "markdown",
      "source": [
        "# Pandas"
      ],
      "metadata": {
        "id": "pisA4n5IG-dk"
      }
    },
    {
      "cell_type": "markdown",
      "source": [
        "First lets import a repository and work from there to access files (also to learn how to commit and pull changes to github)\n",
        "\n",
        "Console commands:\n",
        "\n",
        "* !rm -rf   <---(remove folder)\n",
        "* !rm       <---(remove file/folder)\n",
        "* %cd       <---(change directory)\n",
        "* %ls       <---(list files)\n",
        "* !mv       <---(move file/folder)"
      ],
      "metadata": {
        "id": "KCQBPH39MRDH"
      }
    },
    {
      "cell_type": "code",
      "source": [
        "!git config --global user.name \"Jultromix\"\n",
        "!git config --global user.email \"juliomoreno7217@gmail.com\"\n"
      ],
      "metadata": {
        "id": "F8qMex2_VFXz"
      },
      "execution_count": 2,
      "outputs": []
    },
    {
      "cell_type": "code",
      "source": [
        "token = \"\"\n",
        "username = \"Jultromix\"\n",
        "repo = \"PAI-PROJECT\""
      ],
      "metadata": {
        "id": "fe6vO-4LW9bZ"
      },
      "execution_count": 3,
      "outputs": []
    },
    {
      "cell_type": "code",
      "source": [
        "!git clone https://github.com/{username}/{repo}"
      ],
      "metadata": {
        "colab": {
          "base_uri": "https://localhost:8080/"
        },
        "id": "72pfMttcYFV3",
        "outputId": "84b9488a-21b5-4dc1-b418-8de6b26f36d9"
      },
      "execution_count": 4,
      "outputs": [
        {
          "output_type": "stream",
          "name": "stdout",
          "text": [
            "Cloning into 'PAI-PROJECT'...\n",
            "remote: Enumerating objects: 33, done.\u001b[K\n",
            "remote: Counting objects:   3% (1/33)\u001b[K\rremote: Counting objects:   6% (2/33)\u001b[K\rremote: Counting objects:   9% (3/33)\u001b[K\rremote: Counting objects:  12% (4/33)\u001b[K\rremote: Counting objects:  15% (5/33)\u001b[K\rremote: Counting objects:  18% (6/33)\u001b[K\rremote: Counting objects:  21% (7/33)\u001b[K\rremote: Counting objects:  24% (8/33)\u001b[K\rremote: Counting objects:  27% (9/33)\u001b[K\rremote: Counting objects:  30% (10/33)\u001b[K\rremote: Counting objects:  33% (11/33)\u001b[K\rremote: Counting objects:  36% (12/33)\u001b[K\rremote: Counting objects:  39% (13/33)\u001b[K\rremote: Counting objects:  42% (14/33)\u001b[K\rremote: Counting objects:  45% (15/33)\u001b[K\rremote: Counting objects:  48% (16/33)\u001b[K\rremote: Counting objects:  51% (17/33)\u001b[K\rremote: Counting objects:  54% (18/33)\u001b[K\rremote: Counting objects:  57% (19/33)\u001b[K\rremote: Counting objects:  60% (20/33)\u001b[K\rremote: Counting objects:  63% (21/33)\u001b[K\rremote: Counting objects:  66% (22/33)\u001b[K\rremote: Counting objects:  69% (23/33)\u001b[K\rremote: Counting objects:  72% (24/33)\u001b[K\rremote: Counting objects:  75% (25/33)\u001b[K\rremote: Counting objects:  78% (26/33)\u001b[K\rremote: Counting objects:  81% (27/33)\u001b[K\rremote: Counting objects:  84% (28/33)\u001b[K\rremote: Counting objects:  87% (29/33)\u001b[K\rremote: Counting objects:  90% (30/33)\u001b[K\rremote: Counting objects:  93% (31/33)\u001b[K\rremote: Counting objects:  96% (32/33)\u001b[K\rremote: Counting objects: 100% (33/33)\u001b[K\rremote: Counting objects: 100% (33/33), done.\u001b[K\n",
            "remote: Compressing objects:   3% (1/30)\u001b[K\rremote: Compressing objects:   6% (2/30)\u001b[K\rremote: Compressing objects:  10% (3/30)\u001b[K\rremote: Compressing objects:  13% (4/30)\u001b[K\rremote: Compressing objects:  16% (5/30)\u001b[K\rremote: Compressing objects:  20% (6/30)\u001b[K\rremote: Compressing objects:  23% (7/30)\u001b[K\rremote: Compressing objects:  26% (8/30)\u001b[K\rremote: Compressing objects:  30% (9/30)\u001b[K\rremote: Compressing objects:  33% (10/30)\u001b[K\rremote: Compressing objects:  36% (11/30)\u001b[K\rremote: Compressing objects:  40% (12/30)\u001b[K\rremote: Compressing objects:  43% (13/30)\u001b[K\rremote: Compressing objects:  46% (14/30)\u001b[K\rremote: Compressing objects:  50% (15/30)\u001b[K\rremote: Compressing objects:  53% (16/30)\u001b[K\rremote: Compressing objects:  56% (17/30)\u001b[K\rremote: Compressing objects:  60% (18/30)\u001b[K\rremote: Compressing objects:  63% (19/30)\u001b[K\rremote: Compressing objects:  66% (20/30)\u001b[K\rremote: Compressing objects:  70% (21/30)\u001b[K\rremote: Compressing objects:  73% (22/30)\u001b[K\rremote: Compressing objects:  76% (23/30)\u001b[K\rremote: Compressing objects:  80% (24/30)\u001b[K\rremote: Compressing objects:  83% (25/30)\u001b[K\rremote: Compressing objects:  86% (26/30)\u001b[K\rremote: Compressing objects:  90% (27/30)\u001b[K\rremote: Compressing objects:  93% (28/30)\u001b[K\rremote: Compressing objects:  96% (29/30)\u001b[K\rremote: Compressing objects: 100% (30/30)\u001b[K\rremote: Compressing objects: 100% (30/30), done.\u001b[K\n",
            "remote: Total 33 (delta 11), reused 10 (delta 3), pack-reused 0\u001b[K\n",
            "Unpacking objects:   3% (1/33)   \rUnpacking objects:   6% (2/33)   \rUnpacking objects:   9% (3/33)   \rUnpacking objects:  12% (4/33)   \rUnpacking objects:  15% (5/33)   \rUnpacking objects:  18% (6/33)   \rUnpacking objects:  21% (7/33)   \rUnpacking objects:  24% (8/33)   \rUnpacking objects:  27% (9/33)   \rUnpacking objects:  30% (10/33)   \rUnpacking objects:  33% (11/33)   \rUnpacking objects:  36% (12/33)   \rUnpacking objects:  39% (13/33)   \rUnpacking objects:  42% (14/33)   \rUnpacking objects:  45% (15/33)   \rUnpacking objects:  48% (16/33)   \rUnpacking objects:  51% (17/33)   \rUnpacking objects:  54% (18/33)   \rUnpacking objects:  57% (19/33)   \rUnpacking objects:  60% (20/33)   \rUnpacking objects:  63% (21/33)   \rUnpacking objects:  66% (22/33)   \rUnpacking objects:  69% (23/33)   \rUnpacking objects:  72% (24/33)   \rUnpacking objects:  75% (25/33)   \rUnpacking objects:  78% (26/33)   \rUnpacking objects:  81% (27/33)   \rUnpacking objects:  84% (28/33)   \rUnpacking objects:  87% (29/33)   \rUnpacking objects:  90% (30/33)   \rUnpacking objects:  93% (31/33)   \rUnpacking objects:  96% (32/33)   \rUnpacking objects: 100% (33/33)   \rUnpacking objects: 100% (33/33), done.\n"
          ]
        }
      ]
    },
    {
      "cell_type": "code",
      "source": [
        "%cd PAI-PROJECT/"
      ],
      "metadata": {
        "colab": {
          "base_uri": "https://localhost:8080/"
        },
        "id": "Ck7o6MrDcGAL",
        "outputId": "260c2cb1-8ec1-4b24-8a64-d8b85d6df628"
      },
      "execution_count": 5,
      "outputs": [
        {
          "output_type": "stream",
          "name": "stdout",
          "text": [
            "/content/PAI-PROJECT\n"
          ]
        }
      ]
    },
    {
      "cell_type": "code",
      "source": [
        ""
      ],
      "metadata": {
        "id": "po4-rCaOcRcR"
      },
      "execution_count": null,
      "outputs": []
    }
  ]
}